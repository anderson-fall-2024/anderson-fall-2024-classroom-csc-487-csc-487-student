{
 "cells": [
  {
   "cell_type": "markdown",
   "metadata": {
    "id": "9LEgnz_jkhB5"
   },
   "source": [
    "# Colab Start Section"
   ]
  },
  {
   "cell_type": "markdown",
   "metadata": {
    "id": "0MAwGlg-khB6"
   },
   "source": [
    "Step 1 is to upload a copy of your private key. I am assuming your private key is named id_ed25519. If that isn't the case, you'll have to make manual changes."
   ]
  },
  {
   "cell_type": "code",
   "execution_count": 2,
   "metadata": {
    "id": "SVQ4mjKnkhB7"
   },
   "outputs": [],
   "source": [
    "# Change these of course to what is your email and your GitHub username\n",
    "EMAIL = \"pauleanderson@gmail.com\"\n",
    "USERNAME = \"pauleanderson\"\n",
    "ORG = \"anderson-fall-2024\""
   ]
  },
  {
   "cell_type": "code",
   "execution_count": 2,
   "metadata": {
    "colab": {
     "base_uri": "https://localhost:8080/",
     "height": 74
    },
    "id": "pOJnkrUCkhB7",
    "outputId": "6f373114-4044-41e5-c3ae-73eddaa53d3c"
   },
   "outputs": [
    {
     "data": {
      "text/html": [
       "\n",
       "     <input type=\"file\" id=\"files-b28a5013-808b-4fa8-815c-654508930750\" name=\"files[]\" multiple disabled\n",
       "        style=\"border:none\" />\n",
       "     <output id=\"result-b28a5013-808b-4fa8-815c-654508930750\">\n",
       "      Upload widget is only available when the cell has been executed in the\n",
       "      current browser session. Please rerun this cell to enable.\n",
       "      </output>\n",
       "      <script>// Copyright 2017 Google LLC\n",
       "//\n",
       "// Licensed under the Apache License, Version 2.0 (the \"License\");\n",
       "// you may not use this file except in compliance with the License.\n",
       "// You may obtain a copy of the License at\n",
       "//\n",
       "//      http://www.apache.org/licenses/LICENSE-2.0\n",
       "//\n",
       "// Unless required by applicable law or agreed to in writing, software\n",
       "// distributed under the License is distributed on an \"AS IS\" BASIS,\n",
       "// WITHOUT WARRANTIES OR CONDITIONS OF ANY KIND, either express or implied.\n",
       "// See the License for the specific language governing permissions and\n",
       "// limitations under the License.\n",
       "\n",
       "/**\n",
       " * @fileoverview Helpers for google.colab Python module.\n",
       " */\n",
       "(function(scope) {\n",
       "function span(text, styleAttributes = {}) {\n",
       "  const element = document.createElement('span');\n",
       "  element.textContent = text;\n",
       "  for (const key of Object.keys(styleAttributes)) {\n",
       "    element.style[key] = styleAttributes[key];\n",
       "  }\n",
       "  return element;\n",
       "}\n",
       "\n",
       "// Max number of bytes which will be uploaded at a time.\n",
       "const MAX_PAYLOAD_SIZE = 100 * 1024;\n",
       "\n",
       "function _uploadFiles(inputId, outputId) {\n",
       "  const steps = uploadFilesStep(inputId, outputId);\n",
       "  const outputElement = document.getElementById(outputId);\n",
       "  // Cache steps on the outputElement to make it available for the next call\n",
       "  // to uploadFilesContinue from Python.\n",
       "  outputElement.steps = steps;\n",
       "\n",
       "  return _uploadFilesContinue(outputId);\n",
       "}\n",
       "\n",
       "// This is roughly an async generator (not supported in the browser yet),\n",
       "// where there are multiple asynchronous steps and the Python side is going\n",
       "// to poll for completion of each step.\n",
       "// This uses a Promise to block the python side on completion of each step,\n",
       "// then passes the result of the previous step as the input to the next step.\n",
       "function _uploadFilesContinue(outputId) {\n",
       "  const outputElement = document.getElementById(outputId);\n",
       "  const steps = outputElement.steps;\n",
       "\n",
       "  const next = steps.next(outputElement.lastPromiseValue);\n",
       "  return Promise.resolve(next.value.promise).then((value) => {\n",
       "    // Cache the last promise value to make it available to the next\n",
       "    // step of the generator.\n",
       "    outputElement.lastPromiseValue = value;\n",
       "    return next.value.response;\n",
       "  });\n",
       "}\n",
       "\n",
       "/**\n",
       " * Generator function which is called between each async step of the upload\n",
       " * process.\n",
       " * @param {string} inputId Element ID of the input file picker element.\n",
       " * @param {string} outputId Element ID of the output display.\n",
       " * @return {!Iterable<!Object>} Iterable of next steps.\n",
       " */\n",
       "function* uploadFilesStep(inputId, outputId) {\n",
       "  const inputElement = document.getElementById(inputId);\n",
       "  inputElement.disabled = false;\n",
       "\n",
       "  const outputElement = document.getElementById(outputId);\n",
       "  outputElement.innerHTML = '';\n",
       "\n",
       "  const pickedPromise = new Promise((resolve) => {\n",
       "    inputElement.addEventListener('change', (e) => {\n",
       "      resolve(e.target.files);\n",
       "    });\n",
       "  });\n",
       "\n",
       "  const cancel = document.createElement('button');\n",
       "  inputElement.parentElement.appendChild(cancel);\n",
       "  cancel.textContent = 'Cancel upload';\n",
       "  const cancelPromise = new Promise((resolve) => {\n",
       "    cancel.onclick = () => {\n",
       "      resolve(null);\n",
       "    };\n",
       "  });\n",
       "\n",
       "  // Wait for the user to pick the files.\n",
       "  const files = yield {\n",
       "    promise: Promise.race([pickedPromise, cancelPromise]),\n",
       "    response: {\n",
       "      action: 'starting',\n",
       "    }\n",
       "  };\n",
       "\n",
       "  cancel.remove();\n",
       "\n",
       "  // Disable the input element since further picks are not allowed.\n",
       "  inputElement.disabled = true;\n",
       "\n",
       "  if (!files) {\n",
       "    return {\n",
       "      response: {\n",
       "        action: 'complete',\n",
       "      }\n",
       "    };\n",
       "  }\n",
       "\n",
       "  for (const file of files) {\n",
       "    const li = document.createElement('li');\n",
       "    li.append(span(file.name, {fontWeight: 'bold'}));\n",
       "    li.append(span(\n",
       "        `(${file.type || 'n/a'}) - ${file.size} bytes, ` +\n",
       "        `last modified: ${\n",
       "            file.lastModifiedDate ? file.lastModifiedDate.toLocaleDateString() :\n",
       "                                    'n/a'} - `));\n",
       "    const percent = span('0% done');\n",
       "    li.appendChild(percent);\n",
       "\n",
       "    outputElement.appendChild(li);\n",
       "\n",
       "    const fileDataPromise = new Promise((resolve) => {\n",
       "      const reader = new FileReader();\n",
       "      reader.onload = (e) => {\n",
       "        resolve(e.target.result);\n",
       "      };\n",
       "      reader.readAsArrayBuffer(file);\n",
       "    });\n",
       "    // Wait for the data to be ready.\n",
       "    let fileData = yield {\n",
       "      promise: fileDataPromise,\n",
       "      response: {\n",
       "        action: 'continue',\n",
       "      }\n",
       "    };\n",
       "\n",
       "    // Use a chunked sending to avoid message size limits. See b/62115660.\n",
       "    let position = 0;\n",
       "    do {\n",
       "      const length = Math.min(fileData.byteLength - position, MAX_PAYLOAD_SIZE);\n",
       "      const chunk = new Uint8Array(fileData, position, length);\n",
       "      position += length;\n",
       "\n",
       "      const base64 = btoa(String.fromCharCode.apply(null, chunk));\n",
       "      yield {\n",
       "        response: {\n",
       "          action: 'append',\n",
       "          file: file.name,\n",
       "          data: base64,\n",
       "        },\n",
       "      };\n",
       "\n",
       "      let percentDone = fileData.byteLength === 0 ?\n",
       "          100 :\n",
       "          Math.round((position / fileData.byteLength) * 100);\n",
       "      percent.textContent = `${percentDone}% done`;\n",
       "\n",
       "    } while (position < fileData.byteLength);\n",
       "  }\n",
       "\n",
       "  // All done.\n",
       "  yield {\n",
       "    response: {\n",
       "      action: 'complete',\n",
       "    }\n",
       "  };\n",
       "}\n",
       "\n",
       "scope.google = scope.google || {};\n",
       "scope.google.colab = scope.google.colab || {};\n",
       "scope.google.colab._files = {\n",
       "  _uploadFiles,\n",
       "  _uploadFilesContinue,\n",
       "};\n",
       "})(self);\n",
       "</script> "
      ],
      "text/plain": [
       "<IPython.core.display.HTML object>"
      ]
     },
     "metadata": {},
     "output_type": "display_data"
    },
    {
     "name": "stdout",
     "output_type": "stream",
     "text": [
      "Saving id_ed25519 to id_ed25519\n"
     ]
    }
   ],
   "source": [
    "from google.colab import files\n",
    "uploaded = files.upload()"
   ]
  },
  {
   "cell_type": "code",
   "execution_count": 3,
   "metadata": {
    "id": "A7MwtCjjkhB8"
   },
   "outputs": [],
   "source": [
    "%%bash -s \"$EMAIL\" \"$USERNAME\"\n",
    "\n",
    "rm -rf /root/.ssh/*\n",
    "mkdir /root/.ssh\n",
    "\n",
    "mv id_ed25519 /root/.ssh/\n",
    "\n",
    "chmod 600 /root/.ssh/id_ed25519\n",
    "\n",
    "git config --global user.email \"$1\"\n",
    "git config --global user.name \"$2\""
   ]
  },
  {
   "cell_type": "code",
   "execution_count": 8,
   "metadata": {
    "colab": {
     "base_uri": "https://localhost:8080/"
    },
    "id": "-aJZXbdlkhB9",
    "outputId": "18bf0c90-2f5a-4b65-d63b-a79d55db3f84"
   },
   "outputs": [
    {
     "name": "stdout",
     "output_type": "stream",
     "text": [
      "Agent pid 726\n"
     ]
    },
    {
     "name": "stderr",
     "output_type": "stream",
     "text": [
      "Identity added: /root/.ssh/id_ed25519 (pauleanderson@gmail.com)\n",
      "# github.com:22 SSH-2.0-babeld-cd94d92b7\n",
      "Cloning into 'csc-487-instructor'...\n"
     ]
    }
   ],
   "source": [
    "%%bash -s \"$USERNAME\" \"$ORG\"\n",
    "\n",
    "eval \"$(ssh-agent -s)\"\n",
    "\n",
    "ssh-add ~/.ssh/id_ed25519\n",
    "\n",
    "ssh-keyscan -t rsa github.com >> ~/.ssh/known_hosts\n",
    "\n",
    "git clone git@github.com:$2/csc-487-$1.git"
   ]
  },
  {
   "cell_type": "code",
   "execution_count": 3,
   "metadata": {
    "id": "2Wc0Nqr5khB9"
   },
   "outputs": [
    {
     "name": "stdout",
     "output_type": "stream",
     "text": [
      "The autoreload extension is already loaded. To reload it, use:\n",
      "  %reload_ext autoreload\n"
     ]
    }
   ],
   "source": [
    "%load_ext autoreload\n",
    "%autoreload 2\n",
    "\n",
    "\n",
    "from pathlib import Path\n",
    "home = str(Path.home()) # all other paths are relative to this path. change to something else if this is not the case on your system\n",
    "\n",
    "import sys\n",
    "sys.path.insert(0,f\"csc-487-{USERNAME}\")\n",
    "sys.path.insert(0,\"..\")\n",
    "\n",
    "import py487"
   ]
  },
  {
   "cell_type": "markdown",
   "metadata": {
    "hideCode": false,
    "hidePrompt": false,
    "slideshow": {
     "slide_type": "slide"
    },
    "tags": []
   },
   "source": [
    "# Assignment 6 - Attention is all you need\n",
    "\n",
    "Paul E. Anderson"
   ]
  },
  {
   "cell_type": "markdown",
   "metadata": {},
   "source": [
    "## Motivation\n",
    "\n",
    "The vast majority of large language models today are based on or inspired by the attention/transformer architecture. You can find one of the original papers here - https://arxiv.org/abs/1706.03762.  \n",
    "\n",
    "## Instructions:\n",
    "In this assignment you will be coding classes that replicate some of the functionality from:\n",
    "* csc-487-student/materials/Transformer_Towards_Data_Science.pdf\n",
    "\n",
    "You must implement this code from numpy arrays and similar low level functions. I have added an option to my code called output_list which I use to easily convert back to tensors for display purposes. You may use tensors for displaying your code, but you should not use Pytorch to carry out the functionality needed to complete the assignment. If an object is given to you in Pytorch, you can use it of course. For example, you can use self.W_o. \n",
    "\n",
    "This code is inspirted by: https://towardsdatascience.com/build-your-own-transformer-from-scratch-using-pytorch-84c850470dcb\n",
    "\n",
    "Specifically, you are to re-implement the following using only Python and numpy/torch base functionality:\n",
    "\n",
    "**You can use things like np.array or torch.tensor to make life easier, but you shouldn't use built in matrix multiplication, transpose, or similar functions.**\n",
    "```\n",
    "class MultiHeadAttention(nn.Module):\n",
    "    def __init__(self, d_model, num_heads):\n",
    "        super(MultiHeadAttention, self).__init__()\n",
    "        assert d_model % num_heads == 0, \"d_model must be divisible by num_heads\"\n",
    "        \n",
    "        self.d_model = d_model\n",
    "        self.num_heads = num_heads\n",
    "        self.d_k = d_model // num_heads\n",
    "        \n",
    "        self.W_q = nn.Linear(d_model, d_model)\n",
    "        self.W_k = nn.Linear(d_model, d_model)\n",
    "        self.W_v = nn.Linear(d_model, d_model)\n",
    "        self.W_o = nn.Linear(d_model, d_model)\n",
    "        \n",
    "    def scaled_dot_product_attention(self, Q, K, V, mask=None):\n",
    "        attn_scores = torch.matmul(Q, K.transpose(-2, -1)) / math.sqrt(self.d_k)\n",
    "        if mask is not None:\n",
    "            attn_scores = attn_scores.masked_fill(mask == 0, -1e9)\n",
    "        attn_probs = torch.softmax(attn_scores, dim=-1)\n",
    "        output = torch.matmul(attn_probs, V)\n",
    "        return output\n",
    "        \n",
    "        def split_heads(self, x):\n",
    "            batch_size, seq_length, d_model = x.size()\n",
    "            return x.view(batch_size, seq_length, self.num_heads, self.d_k).transpose(1, 2)\n",
    "        \n",
    "    def combine_heads(self, x):\n",
    "        batch_size, _, seq_length, d_k = x.size()\n",
    "        return x.transpose(1, 2).contiguous().view(batch_size, seq_length, self.d_model)\n",
    "        \n",
    "    def forward(self, Q, K, V, mask=None):\n",
    "        Q = self.split_heads(self.W_q(Q))\n",
    "        K = self.split_heads(self.W_k(K))\n",
    "        V = self.split_heads(self.W_v(V))\n",
    "        \n",
    "        attn_output = self.scaled_dot_product_attention(Q, K, V, mask)\n",
    "        output = self.W_o(self.combine_heads(attn_output))\n",
    "        return output\n",
    "```\n",
    "\n",
    "**Notes: Please ignore the mask argument in your implementation.**"
   ]
  },
  {
   "cell_type": "code",
   "execution_count": 1,
   "metadata": {},
   "outputs": [],
   "source": [
    "import torch"
   ]
  },
  {
   "cell_type": "code",
   "execution_count": 4,
   "metadata": {},
   "outputs": [
    {
     "name": "stdout",
     "output_type": "stream",
     "text": [
      "Collecting wget\n",
      "  Downloading wget-3.2.zip (10 kB)\n",
      "Using legacy 'setup.py install' for wget, since package 'wheel' is not installed.\n",
      "Installing collected packages: wget\n",
      "    Running setup.py install for wget ... \u001b[?25ldone\n",
      "\u001b[?25hSuccessfully installed wget-3.2\n",
      "\u001b[33mWARNING: You are using pip version 21.2.4; however, version 24.3.1 is available.\n",
      "You should consider upgrading via the '/Users/pander14/venv/bin/python3 -m pip install --upgrade pip' command.\u001b[0m\n"
     ]
    }
   ],
   "source": [
    "!pip install wget"
   ]
  },
  {
   "cell_type": "code",
   "execution_count": 7,
   "metadata": {},
   "outputs": [
    {
     "name": "stdout",
     "output_type": "stream",
     "text": [
      "100% [......................................................................] 862182753 / 862182753"
     ]
    },
    {
     "data": {
      "text/plain": [
       "'/tmp/glove.6B.zip'"
      ]
     },
     "execution_count": 7,
     "metadata": {},
     "output_type": "execute_result"
    }
   ],
   "source": [
    "import wget\n",
    "url = 'http://nlp.stanford.edu/data/wordvecs/glove.6B.zip'\n",
    "filename = wget.download(url,\"/tmp/glove.6B.zip\")\n",
    "filename"
   ]
  },
  {
   "cell_type": "code",
   "execution_count": 9,
   "metadata": {},
   "outputs": [
    {
     "name": "stdout",
     "output_type": "stream",
     "text": [
      "Archive:  /tmp/glove.6B.zip\n",
      "  inflating: /tmp/glove/glove.6B.100d.txt  \n",
      "  inflating: /tmp/glove/glove.6B.200d.txt  \n",
      "  inflating: /tmp/glove/glove.6B.300d.txt  \n",
      "  inflating: /tmp/glove/glove.6B.50d.txt  \n"
     ]
    }
   ],
   "source": [
    "!unzip -d /tmp/glove /tmp/glove.6B.zip"
   ]
  },
  {
   "cell_type": "markdown",
   "metadata": {},
   "source": [
    "## Loading the word vectors"
   ]
  },
  {
   "cell_type": "code",
   "execution_count": 4,
   "metadata": {},
   "outputs": [
    {
     "data": {
      "text/plain": [
       "318742         aftenblad\n",
       "286557         saint-dié\n",
       "252255              inss\n",
       "344717             gejiu\n",
       "279376              ōhia\n",
       "139016    rhabdomyolysis\n",
       "221820           jung-gu\n",
       "30820           tightens\n",
       "128164           legnano\n",
       "184154       disasterous\n",
       "dtype: object"
      ]
     },
     "execution_count": 4,
     "metadata": {},
     "output_type": "execute_result"
    }
   ],
   "source": [
    "import pandas as pd\n",
    "glove = pd.read_csv('/tmp/glove/glove.6B.100d.txt', sep=\" \", quoting=3, header=None, index_col=0)\n",
    "glove_embedding = {key: val.values for key, val in glove.T.items()}\n",
    "pd.Series(glove_embedding.keys()).sample(n=10)"
   ]
  },
  {
   "cell_type": "markdown",
   "metadata": {},
   "source": [
    "**Example embeddings**"
   ]
  },
  {
   "cell_type": "code",
   "execution_count": 5,
   "metadata": {},
   "outputs": [
    {
     "data": {
      "text/plain": [
       "array([-0.50045 , -0.70826 ,  0.55388 ,  0.673   ,  0.22486 ,  0.60281 ,\n",
       "       -0.26194 ,  0.73872 , -0.65383 , -0.21606 , -0.33806 ,  0.24498 ,\n",
       "       -0.51497 ,  0.8568  , -0.37199 , -0.58824 ,  0.30637 , -0.30668 ,\n",
       "       -0.2187  ,  0.78369 , -0.61944 , -0.54925 ,  0.43067 , -0.027348,\n",
       "        0.97574 ,  0.46169 ,  0.11486 , -0.99842 ,  1.0661  , -0.20819 ,\n",
       "        0.53158 ,  0.40922 ,  1.0406  ,  0.24943 ,  0.18709 ,  0.41528 ,\n",
       "       -0.95408 ,  0.36822 , -0.37948 , -0.6802  , -0.14578 , -0.20113 ,\n",
       "        0.17113 , -0.55705 ,  0.7191  ,  0.070014, -0.23637 ,  0.49534 ,\n",
       "        1.1576  , -0.05078 ,  0.25731 , -0.091052,  1.2663  ,  1.1047  ,\n",
       "       -0.51584 , -2.0033  , -0.64821 ,  0.16417 ,  0.32935 ,  0.048484,\n",
       "        0.18997 ,  0.66116 ,  0.080882,  0.3364  ,  0.22758 ,  0.1462  ,\n",
       "       -0.51005 ,  0.63777 ,  0.47299 , -0.3282  ,  0.083899, -0.78547 ,\n",
       "        0.099148,  0.039176,  0.27893 ,  0.11747 ,  0.57862 ,  0.043639,\n",
       "       -0.15965 , -0.35304 , -0.048965, -0.32461 ,  1.4981  ,  0.58138 ,\n",
       "       -1.132   , -0.60673 , -0.37505 , -1.1813  ,  0.80117 , -0.50014 ,\n",
       "       -0.16574 , -0.70584 ,  0.43012 ,  0.51051 , -0.8033  , -0.66572 ,\n",
       "       -0.63717 , -0.36032 ,  0.13347 , -0.56075 ])"
      ]
     },
     "execution_count": 5,
     "metadata": {},
     "output_type": "execute_result"
    }
   ],
   "source": [
    "glove_embedding['queen']"
   ]
  },
  {
   "cell_type": "code",
   "execution_count": 6,
   "metadata": {},
   "outputs": [
    {
     "data": {
      "text/plain": [
       "array([-0.32307 , -0.87616 ,  0.21977 ,  0.25268 ,  0.22976 ,  0.7388  ,\n",
       "       -0.37954 , -0.35307 , -0.84369 , -1.1113  , -0.30266 ,  0.33178 ,\n",
       "       -0.25113 ,  0.30448 , -0.077491, -0.89815 ,  0.092496, -1.1407  ,\n",
       "       -0.58324 ,  0.66869 , -0.23122 , -0.95855 ,  0.28262 , -0.078848,\n",
       "        0.75315 ,  0.26584 ,  0.3422  , -0.33949 ,  0.95608 ,  0.065641,\n",
       "        0.45747 ,  0.39835 ,  0.57965 ,  0.39267 , -0.21851 ,  0.58795 ,\n",
       "       -0.55999 ,  0.63368 , -0.043983, -0.68731 , -0.37841 ,  0.38026 ,\n",
       "        0.61641 , -0.88269 , -0.12346 , -0.37928 , -0.38318 ,  0.23868 ,\n",
       "        0.6685  , -0.43321 , -0.11065 ,  0.081723,  1.1569  ,  0.78958 ,\n",
       "       -0.21223 , -2.3211  , -0.67806 ,  0.44561 ,  0.65707 ,  0.1045  ,\n",
       "        0.46217 ,  0.19912 ,  0.25802 ,  0.057194,  0.53443 , -0.43133 ,\n",
       "       -0.34311 ,  0.59789 , -0.58417 ,  0.068995,  0.23944 , -0.85181 ,\n",
       "        0.30379 , -0.34177 , -0.25746 , -0.031101, -0.16285 ,  0.45169 ,\n",
       "       -0.91627 ,  0.64521 ,  0.73281 , -0.22752 ,  0.30226 ,  0.044801,\n",
       "       -0.83741 ,  0.55006 , -0.52506 , -1.7357  ,  0.4751  , -0.70487 ,\n",
       "        0.056939, -0.7132  ,  0.089623,  0.41394 , -1.3363  , -0.61915 ,\n",
       "       -0.33089 , -0.52881 ,  0.16483 , -0.98878 ])"
      ]
     },
     "execution_count": 6,
     "metadata": {},
     "output_type": "execute_result"
    }
   ],
   "source": [
    "glove_embedding['king']"
   ]
  },
  {
   "cell_type": "code",
   "execution_count": 7,
   "metadata": {},
   "outputs": [
    {
     "data": {
      "text/plain": [
       "array([-0.10462 , -0.44546 ,  0.73247 ,  0.33399 ,  0.74169 ,  0.26785 ,\n",
       "       -0.13302 ,  0.048104, -0.58442 , -0.144   ,  0.042539,  0.91575 ,\n",
       "       -0.27711 ,  0.025089,  0.54384 , -0.96325 , -0.15653 , -1.2196  ,\n",
       "       -0.82354 ,  0.41574 , -0.5213  , -0.43856 ,  0.15554 , -0.33582 ,\n",
       "       -0.26954 ,  0.28767 , -0.44932 ,  0.12631 ,  0.80588 ,  0.037442,\n",
       "        0.083067, -0.16238 ,  0.66295 , -0.40002 , -0.23491 ,  0.32218 ,\n",
       "        0.32082 ,  0.82943 , -0.73548 , -0.22967 ,  0.32303 ,  0.50304 ,\n",
       "        0.42311 , -1.0475  ,  0.50004 , -0.26974 , -0.67122 ,  0.34976 ,\n",
       "        0.84703 , -0.24704 ,  0.0171  ,  0.15045 ,  0.70515 ,  0.44578 ,\n",
       "       -0.44401 , -2.1091  , -0.76305 ,  0.44046 ,  0.33391 ,  0.28334 ,\n",
       "        0.17089 ,  0.1954  , -0.040206,  0.27536 ,  0.71581 , -0.16719 ,\n",
       "       -0.12637 ,  0.53172 , -0.53269 ,  0.45923 ,  0.17436 , -1.0175  ,\n",
       "        0.038111, -0.82138 , -0.15615 ,  0.35239 ,  0.31692 , -0.036803,\n",
       "       -0.037231,  0.40949 ,  0.74874 ,  0.38309 ,  0.96702 ,  0.2672  ,\n",
       "       -0.73418 , -0.23598 , -0.67766 , -1.1542  ,  0.58595 , -1.0541  ,\n",
       "        0.23824 , -0.94192 ,  0.58186 , -0.13338 , -1.1079  ,  0.43486 ,\n",
       "       -0.85339 , -0.66948 , -0.28375 , -1.2942  ])"
      ]
     },
     "execution_count": 7,
     "metadata": {},
     "output_type": "execute_result"
    }
   ],
   "source": [
    "glove_embedding['prince']"
   ]
  },
  {
   "cell_type": "markdown",
   "metadata": {},
   "source": [
    "## Dataset\n",
    "We are creating a simple dataset with two sentences. One of the sentences is shorter than the other, and so padding was added. "
   ]
  },
  {
   "cell_type": "code",
   "execution_count": 8,
   "metadata": {},
   "outputs": [
    {
     "name": "stdout",
     "output_type": "stream",
     "text": [
      "d_k: 100\n"
     ]
    }
   ],
   "source": [
    "d_k = len(glove_embedding[\"queen\"])\n",
    "num_heads = 5\n",
    "print(f\"d_k: {d_k}\")"
   ]
  },
  {
   "cell_type": "markdown",
   "metadata": {},
   "source": [
    "### Generating our context-free word embeddings\n",
    "\n",
    "We are using the glove context-free word embeddings. Because we want a multi-head attention, we are supplying ``num_heads`` copies of each embedding associated with each token in a sentence. For simplicity, I am only using two sentences. We are also padding this with zeros because the sentences are different lengths."
   ]
  },
  {
   "cell_type": "code",
   "execution_count": 43,
   "metadata": {},
   "outputs": [],
   "source": [
    "import torch\n",
    "import numpy as np\n",
    "sentence1 = \"The king and the queen had a son who is the prince\"\n",
    "words1 = sentence1.split()\n",
    "sentence2 = \"The king of england is Charles\"\n",
    "words2 = sentence2.split()\n",
    "n_tokens = max(len(words1),len(words2))\n",
    "\n",
    "V1 = []\n",
    "for i in range(n_tokens):\n",
    "    if i < len(words1):\n",
    "        V1.append(glove_embedding[words1[i].lower()].tolist()*num_heads)\n",
    "    else:\n",
    "        V1.append(np.zeros((d_k*num_heads,)))\n",
    "\n",
    "V2 = []\n",
    "for i in range(n_tokens):\n",
    "    if i < len(words2):\n",
    "        V2.append(glove_embedding[words2[i].lower()].tolist()*num_heads)\n",
    "    else:\n",
    "        V2.append(np.zeros((d_k*num_heads,)))\n",
    "    \n",
    "V = torch.tensor(np.array([V1,V2]),dtype=torch.float32)"
   ]
  },
  {
   "cell_type": "code",
   "execution_count": 44,
   "metadata": {},
   "outputs": [
    {
     "data": {
      "text/plain": [
       "torch.Size([2, 12, 500])"
      ]
     },
     "execution_count": 44,
     "metadata": {},
     "output_type": "execute_result"
    }
   ],
   "source": [
    "V.shape"
   ]
  },
  {
   "cell_type": "code",
   "execution_count": 45,
   "metadata": {},
   "outputs": [
    {
     "data": {
      "text/plain": [
       "tensor([[[-0.0382, -0.2449,  0.7281,  ..., -0.1459,  0.8278,  0.2706],\n",
       "         [-0.3231, -0.8762,  0.2198,  ..., -0.5288,  0.1648, -0.9888],\n",
       "         [-0.0720,  0.2313,  0.0237,  ..., -0.7189,  0.8689,  0.1954],\n",
       "         ...,\n",
       "         [-0.5426,  0.4148,  1.0322,  ..., -1.2969,  0.7622,  0.4635],\n",
       "         [-0.0382, -0.2449,  0.7281,  ..., -0.1459,  0.8278,  0.2706],\n",
       "         [-0.1046, -0.4455,  0.7325,  ..., -0.6695, -0.2837, -1.2942]],\n",
       "\n",
       "        [[-0.0382, -0.2449,  0.7281,  ..., -0.1459,  0.8278,  0.2706],\n",
       "         [-0.3231, -0.8762,  0.2198,  ..., -0.5288,  0.1648, -0.9888],\n",
       "         [-0.1529, -0.2428,  0.8984,  ..., -0.5910,  1.0039,  0.2066],\n",
       "         ...,\n",
       "         [ 0.0000,  0.0000,  0.0000,  ...,  0.0000,  0.0000,  0.0000],\n",
       "         [ 0.0000,  0.0000,  0.0000,  ...,  0.0000,  0.0000,  0.0000],\n",
       "         [ 0.0000,  0.0000,  0.0000,  ...,  0.0000,  0.0000,  0.0000]]])"
      ]
     },
     "execution_count": 45,
     "metadata": {},
     "output_type": "execute_result"
    }
   ],
   "source": [
    "V"
   ]
  },
  {
   "cell_type": "markdown",
   "metadata": {},
   "source": [
    "## Our attention object"
   ]
  },
  {
   "cell_type": "code",
   "execution_count": 46,
   "metadata": {},
   "outputs": [
    {
     "data": {
      "text/plain": [
       "500"
      ]
     },
     "execution_count": 46,
     "metadata": {},
     "output_type": "execute_result"
    }
   ],
   "source": [
    "# word embeddings times heads\n",
    "attention = py487.attention.MultiHeadAttention(d_k*num_heads,num_heads)\n",
    "attention.W_q\n",
    "d_k*num_heads"
   ]
  },
  {
   "cell_type": "markdown",
   "metadata": {},
   "source": [
    "## Examining our Shapes"
   ]
  },
  {
   "cell_type": "code",
   "execution_count": 47,
   "metadata": {},
   "outputs": [
    {
     "data": {
      "text/plain": [
       "torch.Size([2, 12, 500])"
      ]
     },
     "execution_count": 47,
     "metadata": {},
     "output_type": "execute_result"
    }
   ],
   "source": [
    "V.shape"
   ]
  },
  {
   "cell_type": "code",
   "execution_count": 48,
   "metadata": {},
   "outputs": [
    {
     "data": {
      "text/plain": [
       "torch.Size([2, 5, 12, 100])"
      ]
     },
     "execution_count": 48,
     "metadata": {},
     "output_type": "execute_result"
    }
   ],
   "source": [
    "torch.tensor(attention.split_heads(V,list_output=False)).shape"
   ]
  },
  {
   "cell_type": "code",
   "execution_count": 49,
   "metadata": {},
   "outputs": [
    {
     "data": {
      "text/plain": [
       "array([[[[-0.038194  , -0.24487001,  0.72812003, ..., -0.1459    ,\n",
       "           0.82779998,  0.27061999],\n",
       "         [-0.32306999, -0.87616003,  0.21977   , ..., -0.52881002,\n",
       "           0.16483   , -0.98878002],\n",
       "         [-0.071953  ,  0.23127   ,  0.023731  , ..., -0.71894997,\n",
       "           0.86894   ,  0.19539   ],\n",
       "         ...,\n",
       "         [-0.54263997,  0.41475999,  1.03219998, ..., -1.29690003,\n",
       "           0.76217002,  0.46349001],\n",
       "         [-0.038194  , -0.24487001,  0.72812003, ..., -0.1459    ,\n",
       "           0.82779998,  0.27061999],\n",
       "         [-0.10462   , -0.44545999,  0.73246998, ..., -0.66948003,\n",
       "          -0.28375   , -1.29419994]],\n",
       "\n",
       "        [[-0.038194  , -0.24487001,  0.72812003, ..., -0.1459    ,\n",
       "           0.82779998,  0.27061999],\n",
       "         [-0.32306999, -0.87616003,  0.21977   , ..., -0.52881002,\n",
       "           0.16483   , -0.98878002],\n",
       "         [-0.071953  ,  0.23127   ,  0.023731  , ..., -0.71894997,\n",
       "           0.86894   ,  0.19539   ],\n",
       "         ...,\n",
       "         [-0.54263997,  0.41475999,  1.03219998, ..., -1.29690003,\n",
       "           0.76217002,  0.46349001],\n",
       "         [-0.038194  , -0.24487001,  0.72812003, ..., -0.1459    ,\n",
       "           0.82779998,  0.27061999],\n",
       "         [-0.10462   , -0.44545999,  0.73246998, ..., -0.66948003,\n",
       "          -0.28375   , -1.29419994]],\n",
       "\n",
       "        [[-0.038194  , -0.24487001,  0.72812003, ..., -0.1459    ,\n",
       "           0.82779998,  0.27061999],\n",
       "         [-0.32306999, -0.87616003,  0.21977   , ..., -0.52881002,\n",
       "           0.16483   , -0.98878002],\n",
       "         [-0.071953  ,  0.23127   ,  0.023731  , ..., -0.71894997,\n",
       "           0.86894   ,  0.19539   ],\n",
       "         ...,\n",
       "         [-0.54263997,  0.41475999,  1.03219998, ..., -1.29690003,\n",
       "           0.76217002,  0.46349001],\n",
       "         [-0.038194  , -0.24487001,  0.72812003, ..., -0.1459    ,\n",
       "           0.82779998,  0.27061999],\n",
       "         [-0.10462   , -0.44545999,  0.73246998, ..., -0.66948003,\n",
       "          -0.28375   , -1.29419994]],\n",
       "\n",
       "        [[-0.038194  , -0.24487001,  0.72812003, ..., -0.1459    ,\n",
       "           0.82779998,  0.27061999],\n",
       "         [-0.32306999, -0.87616003,  0.21977   , ..., -0.52881002,\n",
       "           0.16483   , -0.98878002],\n",
       "         [-0.071953  ,  0.23127   ,  0.023731  , ..., -0.71894997,\n",
       "           0.86894   ,  0.19539   ],\n",
       "         ...,\n",
       "         [-0.54263997,  0.41475999,  1.03219998, ..., -1.29690003,\n",
       "           0.76217002,  0.46349001],\n",
       "         [-0.038194  , -0.24487001,  0.72812003, ..., -0.1459    ,\n",
       "           0.82779998,  0.27061999],\n",
       "         [-0.10462   , -0.44545999,  0.73246998, ..., -0.66948003,\n",
       "          -0.28375   , -1.29419994]],\n",
       "\n",
       "        [[-0.038194  , -0.24487001,  0.72812003, ..., -0.1459    ,\n",
       "           0.82779998,  0.27061999],\n",
       "         [-0.32306999, -0.87616003,  0.21977   , ..., -0.52881002,\n",
       "           0.16483   , -0.98878002],\n",
       "         [-0.071953  ,  0.23127   ,  0.023731  , ..., -0.71894997,\n",
       "           0.86894   ,  0.19539   ],\n",
       "         ...,\n",
       "         [-0.54263997,  0.41475999,  1.03219998, ..., -1.29690003,\n",
       "           0.76217002,  0.46349001],\n",
       "         [-0.038194  , -0.24487001,  0.72812003, ..., -0.1459    ,\n",
       "           0.82779998,  0.27061999],\n",
       "         [-0.10462   , -0.44545999,  0.73246998, ..., -0.66948003,\n",
       "          -0.28375   , -1.29419994]]],\n",
       "\n",
       "\n",
       "       [[[-0.038194  , -0.24487001,  0.72812003, ..., -0.1459    ,\n",
       "           0.82779998,  0.27061999],\n",
       "         [-0.32306999, -0.87616003,  0.21977   , ..., -0.52881002,\n",
       "           0.16483   , -0.98878002],\n",
       "         [-0.1529    , -0.24279   ,  0.89837003, ..., -0.59100002,\n",
       "           1.00390005,  0.20664001],\n",
       "         ...,\n",
       "         [ 0.        ,  0.        ,  0.        , ...,  0.        ,\n",
       "           0.        ,  0.        ],\n",
       "         [ 0.        ,  0.        ,  0.        , ...,  0.        ,\n",
       "           0.        ,  0.        ],\n",
       "         [ 0.        ,  0.        ,  0.        , ...,  0.        ,\n",
       "           0.        ,  0.        ]],\n",
       "\n",
       "        [[-0.038194  , -0.24487001,  0.72812003, ..., -0.1459    ,\n",
       "           0.82779998,  0.27061999],\n",
       "         [-0.32306999, -0.87616003,  0.21977   , ..., -0.52881002,\n",
       "           0.16483   , -0.98878002],\n",
       "         [-0.1529    , -0.24279   ,  0.89837003, ..., -0.59100002,\n",
       "           1.00390005,  0.20664001],\n",
       "         ...,\n",
       "         [ 0.        ,  0.        ,  0.        , ...,  0.        ,\n",
       "           0.        ,  0.        ],\n",
       "         [ 0.        ,  0.        ,  0.        , ...,  0.        ,\n",
       "           0.        ,  0.        ],\n",
       "         [ 0.        ,  0.        ,  0.        , ...,  0.        ,\n",
       "           0.        ,  0.        ]],\n",
       "\n",
       "        [[-0.038194  , -0.24487001,  0.72812003, ..., -0.1459    ,\n",
       "           0.82779998,  0.27061999],\n",
       "         [-0.32306999, -0.87616003,  0.21977   , ..., -0.52881002,\n",
       "           0.16483   , -0.98878002],\n",
       "         [-0.1529    , -0.24279   ,  0.89837003, ..., -0.59100002,\n",
       "           1.00390005,  0.20664001],\n",
       "         ...,\n",
       "         [ 0.        ,  0.        ,  0.        , ...,  0.        ,\n",
       "           0.        ,  0.        ],\n",
       "         [ 0.        ,  0.        ,  0.        , ...,  0.        ,\n",
       "           0.        ,  0.        ],\n",
       "         [ 0.        ,  0.        ,  0.        , ...,  0.        ,\n",
       "           0.        ,  0.        ]],\n",
       "\n",
       "        [[-0.038194  , -0.24487001,  0.72812003, ..., -0.1459    ,\n",
       "           0.82779998,  0.27061999],\n",
       "         [-0.32306999, -0.87616003,  0.21977   , ..., -0.52881002,\n",
       "           0.16483   , -0.98878002],\n",
       "         [-0.1529    , -0.24279   ,  0.89837003, ..., -0.59100002,\n",
       "           1.00390005,  0.20664001],\n",
       "         ...,\n",
       "         [ 0.        ,  0.        ,  0.        , ...,  0.        ,\n",
       "           0.        ,  0.        ],\n",
       "         [ 0.        ,  0.        ,  0.        , ...,  0.        ,\n",
       "           0.        ,  0.        ],\n",
       "         [ 0.        ,  0.        ,  0.        , ...,  0.        ,\n",
       "           0.        ,  0.        ]],\n",
       "\n",
       "        [[-0.038194  , -0.24487001,  0.72812003, ..., -0.1459    ,\n",
       "           0.82779998,  0.27061999],\n",
       "         [-0.32306999, -0.87616003,  0.21977   , ..., -0.52881002,\n",
       "           0.16483   , -0.98878002],\n",
       "         [-0.1529    , -0.24279   ,  0.89837003, ..., -0.59100002,\n",
       "           1.00390005,  0.20664001],\n",
       "         ...,\n",
       "         [ 0.        ,  0.        ,  0.        , ...,  0.        ,\n",
       "           0.        ,  0.        ],\n",
       "         [ 0.        ,  0.        ,  0.        , ...,  0.        ,\n",
       "           0.        ,  0.        ],\n",
       "         [ 0.        ,  0.        ,  0.        , ...,  0.        ,\n",
       "           0.        ,  0.        ]]]])"
      ]
     },
     "execution_count": 49,
     "metadata": {},
     "output_type": "execute_result"
    }
   ],
   "source": [
    "attention.split_heads(V,list_output=False)"
   ]
  },
  {
   "cell_type": "code",
   "execution_count": 50,
   "metadata": {},
   "outputs": [
    {
     "data": {
      "text/plain": [
       "(2, 12, 500)"
      ]
     },
     "execution_count": 50,
     "metadata": {},
     "output_type": "execute_result"
    }
   ],
   "source": [
    "attention.combine_heads(attention.split_heads(V,list_output=True),list_output=False).shape"
   ]
  },
  {
   "cell_type": "code",
   "execution_count": 51,
   "metadata": {},
   "outputs": [
    {
     "data": {
      "text/plain": [
       "tensor([[[-0.0382, -0.2449,  0.7281,  ..., -0.1459,  0.8278,  0.2706],\n",
       "         [-0.3231, -0.8762,  0.2198,  ..., -0.5288,  0.1648, -0.9888],\n",
       "         [-0.0720,  0.2313,  0.0237,  ..., -0.7189,  0.8689,  0.1954],\n",
       "         ...,\n",
       "         [-0.5426,  0.4148,  1.0322,  ..., -1.2969,  0.7622,  0.4635],\n",
       "         [-0.0382, -0.2449,  0.7281,  ..., -0.1459,  0.8278,  0.2706],\n",
       "         [-0.1046, -0.4455,  0.7325,  ..., -0.6695, -0.2837, -1.2942]],\n",
       "\n",
       "        [[-0.0382, -0.2449,  0.7281,  ..., -0.1459,  0.8278,  0.2706],\n",
       "         [-0.3231, -0.8762,  0.2198,  ..., -0.5288,  0.1648, -0.9888],\n",
       "         [-0.1529, -0.2428,  0.8984,  ..., -0.5910,  1.0039,  0.2066],\n",
       "         ...,\n",
       "         [ 0.0000,  0.0000,  0.0000,  ...,  0.0000,  0.0000,  0.0000],\n",
       "         [ 0.0000,  0.0000,  0.0000,  ...,  0.0000,  0.0000,  0.0000],\n",
       "         [ 0.0000,  0.0000,  0.0000,  ...,  0.0000,  0.0000,  0.0000]]])"
      ]
     },
     "execution_count": 51,
     "metadata": {},
     "output_type": "execute_result"
    }
   ],
   "source": [
    "V"
   ]
  },
  {
   "cell_type": "code",
   "execution_count": 52,
   "metadata": {},
   "outputs": [
    {
     "data": {
      "text/plain": [
       "array([[[-0.04169134, -0.2327853 ,  0.7080632 , ..., -0.16198099,\n",
       "          0.8203707 ,  0.26874125],\n",
       "        [-0.3198783 , -0.8696115 ,  0.22613053, ..., -0.5297519 ,\n",
       "          0.15947372, -0.9885113 ],\n",
       "        [-0.04153148,  0.19671911,  0.07274187, ..., -0.66336256,\n",
       "          0.82956934,  0.18321793],\n",
       "        ...,\n",
       "        [-0.52202666,  0.39101028,  0.9926051 , ..., -1.2491548 ,\n",
       "          0.7591393 ,  0.4512606 ],\n",
       "        [-0.04169134, -0.2327853 ,  0.7080632 , ..., -0.16198099,\n",
       "          0.8203707 ,  0.26874125],\n",
       "        [-0.10619244, -0.4576801 ,  0.71165437, ..., -0.6663796 ,\n",
       "         -0.27050242, -1.2821829 ]],\n",
       "\n",
       "       [[-0.06321203, -0.23518014,  0.75859743, ..., -0.23100029,\n",
       "          0.85375684,  0.26278245],\n",
       "        [-0.32298926, -0.8756927 ,  0.21964346, ..., -0.5288897 ,\n",
       "          0.1647979 , -0.98836374],\n",
       "        [-0.15227912, -0.24188   ,  0.8967635 , ..., -0.5873809 ,\n",
       "          1.0016779 ,  0.20760266],\n",
       "        ...,\n",
       "        [-0.1131205 , -0.05298417,  0.24620919, ..., -0.2243825 ,\n",
       "          0.22033834, -0.09201917],\n",
       "        [-0.1131205 , -0.05298417,  0.24620919, ..., -0.2243825 ,\n",
       "          0.22033834, -0.09201917],\n",
       "        [-0.1131205 , -0.05298417,  0.24620919, ..., -0.2243825 ,\n",
       "          0.22033834, -0.09201917]]], dtype=float32)"
      ]
     },
     "execution_count": 52,
     "metadata": {},
     "output_type": "execute_result"
    }
   ],
   "source": [
    "attention.scaled_dot_product_attention(V,V,V,list_output=False)"
   ]
  },
  {
   "cell_type": "code",
   "execution_count": 53,
   "metadata": {},
   "outputs": [],
   "source": [
    "Q2 = attention.split_heads(attention.W_q(V),list_output=False)\n",
    "K2 = attention.split_heads(attention.W_k(V),list_output=False)\n",
    "V2 = attention.split_heads(attention.W_v(V),list_output=False)\n",
    "V2 = torch.tensor(V2)"
   ]
  },
  {
   "cell_type": "code",
   "execution_count": 54,
   "metadata": {},
   "outputs": [
    {
     "data": {
      "text/plain": [
       "torch.Size([2, 5, 12, 100])"
      ]
     },
     "execution_count": 54,
     "metadata": {},
     "output_type": "execute_result"
    }
   ],
   "source": [
    "V2.shape"
   ]
  },
  {
   "cell_type": "code",
   "execution_count": 55,
   "metadata": {},
   "outputs": [
    {
     "data": {
      "text/plain": [
       "torch.Size([2, 5, 12, 12])"
      ]
     },
     "execution_count": 55,
     "metadata": {},
     "output_type": "execute_result"
    }
   ],
   "source": [
    "torch.matmul(V2, V2.transpose(-2, -1)).shape"
   ]
  },
  {
   "cell_type": "code",
   "execution_count": 56,
   "metadata": {},
   "outputs": [
    {
     "data": {
      "text/plain": [
       "(2, 5, 12, 100)"
      ]
     },
     "execution_count": 56,
     "metadata": {},
     "output_type": "execute_result"
    }
   ],
   "source": [
    "attention.scaled_dot_product_attention(V2,V2,V2,list_output=False).shape"
   ]
  },
  {
   "cell_type": "code",
   "execution_count": 57,
   "metadata": {},
   "outputs": [
    {
     "data": {
      "text/plain": [
       "torch.Size([2, 12, 500])"
      ]
     },
     "execution_count": 57,
     "metadata": {},
     "output_type": "execute_result"
    }
   ],
   "source": [
    "V.shape"
   ]
  },
  {
   "cell_type": "code",
   "execution_count": 58,
   "metadata": {},
   "outputs": [
    {
     "data": {
      "text/plain": [
       "tensor([[[-0.0963, -0.2358, -0.0071,  ..., -0.0491, -0.0180,  0.0432],\n",
       "         [-0.1049, -0.2334, -0.0056,  ..., -0.0517, -0.0205,  0.0384],\n",
       "         [-0.0961, -0.2358, -0.0078,  ..., -0.0489, -0.0169,  0.0416],\n",
       "         ...,\n",
       "         [-0.0998, -0.2343, -0.0020,  ..., -0.0500, -0.0193,  0.0408],\n",
       "         [-0.0963, -0.2358, -0.0071,  ..., -0.0491, -0.0180,  0.0432],\n",
       "         [-0.1115, -0.2294, -0.0007,  ..., -0.0513, -0.0236,  0.0367]],\n",
       "\n",
       "        [[-0.0746, -0.1346, -0.0167,  ..., -0.0221,  0.0105,  0.0167],\n",
       "         [-0.0753, -0.1315, -0.0190,  ..., -0.0295,  0.0095,  0.0142],\n",
       "         [-0.0755, -0.1341, -0.0169,  ..., -0.0190,  0.0107,  0.0174],\n",
       "         ...,\n",
       "         [-0.0818, -0.1338, -0.0133,  ..., -0.0231,  0.0074,  0.0193],\n",
       "         [-0.0818, -0.1338, -0.0133,  ..., -0.0231,  0.0074,  0.0193],\n",
       "         [-0.0818, -0.1338, -0.0133,  ..., -0.0231,  0.0074,  0.0193]]],\n",
       "       grad_fn=<ViewBackward0>)"
      ]
     },
     "execution_count": 58,
     "metadata": {},
     "output_type": "execute_result"
    }
   ],
   "source": [
    "attention.forward(V,V,V,list_output=False)"
   ]
  },
  {
   "cell_type": "code",
   "execution_count": 59,
   "metadata": {},
   "outputs": [
    {
     "data": {
      "text/plain": [
       "torch.Size([2, 500, 12])"
      ]
     },
     "execution_count": 59,
     "metadata": {},
     "output_type": "execute_result"
    }
   ],
   "source": [
    "V.transpose(-2, -1).shape"
   ]
  },
  {
   "cell_type": "markdown",
   "metadata": {},
   "source": [
    "## Outputs"
   ]
  },
  {
   "cell_type": "code",
   "execution_count": 60,
   "metadata": {},
   "outputs": [],
   "source": [
    "# You got this! I output the code below in tensor format only to save output space. Please make sure your\n",
    "# functions return lists to pass the tests."
   ]
  },
  {
   "cell_type": "code",
   "execution_count": 61,
   "metadata": {},
   "outputs": [
    {
     "data": {
      "text/plain": [
       "array([[[[-0.038194  , -0.24487001,  0.72812003, ..., -0.1459    ,\n",
       "           0.82779998,  0.27061999],\n",
       "         [-0.32306999, -0.87616003,  0.21977   , ..., -0.52881002,\n",
       "           0.16483   , -0.98878002],\n",
       "         [-0.071953  ,  0.23127   ,  0.023731  , ..., -0.71894997,\n",
       "           0.86894   ,  0.19539   ],\n",
       "         ...,\n",
       "         [-0.54263997,  0.41475999,  1.03219998, ..., -1.29690003,\n",
       "           0.76217002,  0.46349001],\n",
       "         [-0.038194  , -0.24487001,  0.72812003, ..., -0.1459    ,\n",
       "           0.82779998,  0.27061999],\n",
       "         [-0.10462   , -0.44545999,  0.73246998, ..., -0.66948003,\n",
       "          -0.28375   , -1.29419994]],\n",
       "\n",
       "        [[-0.038194  , -0.24487001,  0.72812003, ..., -0.1459    ,\n",
       "           0.82779998,  0.27061999],\n",
       "         [-0.32306999, -0.87616003,  0.21977   , ..., -0.52881002,\n",
       "           0.16483   , -0.98878002],\n",
       "         [-0.071953  ,  0.23127   ,  0.023731  , ..., -0.71894997,\n",
       "           0.86894   ,  0.19539   ],\n",
       "         ...,\n",
       "         [-0.54263997,  0.41475999,  1.03219998, ..., -1.29690003,\n",
       "           0.76217002,  0.46349001],\n",
       "         [-0.038194  , -0.24487001,  0.72812003, ..., -0.1459    ,\n",
       "           0.82779998,  0.27061999],\n",
       "         [-0.10462   , -0.44545999,  0.73246998, ..., -0.66948003,\n",
       "          -0.28375   , -1.29419994]],\n",
       "\n",
       "        [[-0.038194  , -0.24487001,  0.72812003, ..., -0.1459    ,\n",
       "           0.82779998,  0.27061999],\n",
       "         [-0.32306999, -0.87616003,  0.21977   , ..., -0.52881002,\n",
       "           0.16483   , -0.98878002],\n",
       "         [-0.071953  ,  0.23127   ,  0.023731  , ..., -0.71894997,\n",
       "           0.86894   ,  0.19539   ],\n",
       "         ...,\n",
       "         [-0.54263997,  0.41475999,  1.03219998, ..., -1.29690003,\n",
       "           0.76217002,  0.46349001],\n",
       "         [-0.038194  , -0.24487001,  0.72812003, ..., -0.1459    ,\n",
       "           0.82779998,  0.27061999],\n",
       "         [-0.10462   , -0.44545999,  0.73246998, ..., -0.66948003,\n",
       "          -0.28375   , -1.29419994]],\n",
       "\n",
       "        [[-0.038194  , -0.24487001,  0.72812003, ..., -0.1459    ,\n",
       "           0.82779998,  0.27061999],\n",
       "         [-0.32306999, -0.87616003,  0.21977   , ..., -0.52881002,\n",
       "           0.16483   , -0.98878002],\n",
       "         [-0.071953  ,  0.23127   ,  0.023731  , ..., -0.71894997,\n",
       "           0.86894   ,  0.19539   ],\n",
       "         ...,\n",
       "         [-0.54263997,  0.41475999,  1.03219998, ..., -1.29690003,\n",
       "           0.76217002,  0.46349001],\n",
       "         [-0.038194  , -0.24487001,  0.72812003, ..., -0.1459    ,\n",
       "           0.82779998,  0.27061999],\n",
       "         [-0.10462   , -0.44545999,  0.73246998, ..., -0.66948003,\n",
       "          -0.28375   , -1.29419994]],\n",
       "\n",
       "        [[-0.038194  , -0.24487001,  0.72812003, ..., -0.1459    ,\n",
       "           0.82779998,  0.27061999],\n",
       "         [-0.32306999, -0.87616003,  0.21977   , ..., -0.52881002,\n",
       "           0.16483   , -0.98878002],\n",
       "         [-0.071953  ,  0.23127   ,  0.023731  , ..., -0.71894997,\n",
       "           0.86894   ,  0.19539   ],\n",
       "         ...,\n",
       "         [-0.54263997,  0.41475999,  1.03219998, ..., -1.29690003,\n",
       "           0.76217002,  0.46349001],\n",
       "         [-0.038194  , -0.24487001,  0.72812003, ..., -0.1459    ,\n",
       "           0.82779998,  0.27061999],\n",
       "         [-0.10462   , -0.44545999,  0.73246998, ..., -0.66948003,\n",
       "          -0.28375   , -1.29419994]]],\n",
       "\n",
       "\n",
       "       [[[-0.038194  , -0.24487001,  0.72812003, ..., -0.1459    ,\n",
       "           0.82779998,  0.27061999],\n",
       "         [-0.32306999, -0.87616003,  0.21977   , ..., -0.52881002,\n",
       "           0.16483   , -0.98878002],\n",
       "         [-0.1529    , -0.24279   ,  0.89837003, ..., -0.59100002,\n",
       "           1.00390005,  0.20664001],\n",
       "         ...,\n",
       "         [ 0.        ,  0.        ,  0.        , ...,  0.        ,\n",
       "           0.        ,  0.        ],\n",
       "         [ 0.        ,  0.        ,  0.        , ...,  0.        ,\n",
       "           0.        ,  0.        ],\n",
       "         [ 0.        ,  0.        ,  0.        , ...,  0.        ,\n",
       "           0.        ,  0.        ]],\n",
       "\n",
       "        [[-0.038194  , -0.24487001,  0.72812003, ..., -0.1459    ,\n",
       "           0.82779998,  0.27061999],\n",
       "         [-0.32306999, -0.87616003,  0.21977   , ..., -0.52881002,\n",
       "           0.16483   , -0.98878002],\n",
       "         [-0.1529    , -0.24279   ,  0.89837003, ..., -0.59100002,\n",
       "           1.00390005,  0.20664001],\n",
       "         ...,\n",
       "         [ 0.        ,  0.        ,  0.        , ...,  0.        ,\n",
       "           0.        ,  0.        ],\n",
       "         [ 0.        ,  0.        ,  0.        , ...,  0.        ,\n",
       "           0.        ,  0.        ],\n",
       "         [ 0.        ,  0.        ,  0.        , ...,  0.        ,\n",
       "           0.        ,  0.        ]],\n",
       "\n",
       "        [[-0.038194  , -0.24487001,  0.72812003, ..., -0.1459    ,\n",
       "           0.82779998,  0.27061999],\n",
       "         [-0.32306999, -0.87616003,  0.21977   , ..., -0.52881002,\n",
       "           0.16483   , -0.98878002],\n",
       "         [-0.1529    , -0.24279   ,  0.89837003, ..., -0.59100002,\n",
       "           1.00390005,  0.20664001],\n",
       "         ...,\n",
       "         [ 0.        ,  0.        ,  0.        , ...,  0.        ,\n",
       "           0.        ,  0.        ],\n",
       "         [ 0.        ,  0.        ,  0.        , ...,  0.        ,\n",
       "           0.        ,  0.        ],\n",
       "         [ 0.        ,  0.        ,  0.        , ...,  0.        ,\n",
       "           0.        ,  0.        ]],\n",
       "\n",
       "        [[-0.038194  , -0.24487001,  0.72812003, ..., -0.1459    ,\n",
       "           0.82779998,  0.27061999],\n",
       "         [-0.32306999, -0.87616003,  0.21977   , ..., -0.52881002,\n",
       "           0.16483   , -0.98878002],\n",
       "         [-0.1529    , -0.24279   ,  0.89837003, ..., -0.59100002,\n",
       "           1.00390005,  0.20664001],\n",
       "         ...,\n",
       "         [ 0.        ,  0.        ,  0.        , ...,  0.        ,\n",
       "           0.        ,  0.        ],\n",
       "         [ 0.        ,  0.        ,  0.        , ...,  0.        ,\n",
       "           0.        ,  0.        ],\n",
       "         [ 0.        ,  0.        ,  0.        , ...,  0.        ,\n",
       "           0.        ,  0.        ]],\n",
       "\n",
       "        [[-0.038194  , -0.24487001,  0.72812003, ..., -0.1459    ,\n",
       "           0.82779998,  0.27061999],\n",
       "         [-0.32306999, -0.87616003,  0.21977   , ..., -0.52881002,\n",
       "           0.16483   , -0.98878002],\n",
       "         [-0.1529    , -0.24279   ,  0.89837003, ..., -0.59100002,\n",
       "           1.00390005,  0.20664001],\n",
       "         ...,\n",
       "         [ 0.        ,  0.        ,  0.        , ...,  0.        ,\n",
       "           0.        ,  0.        ],\n",
       "         [ 0.        ,  0.        ,  0.        , ...,  0.        ,\n",
       "           0.        ,  0.        ],\n",
       "         [ 0.        ,  0.        ,  0.        , ...,  0.        ,\n",
       "           0.        ,  0.        ]]]])"
      ]
     },
     "execution_count": 61,
     "metadata": {},
     "output_type": "execute_result"
    }
   ],
   "source": [
    "attention.split_heads(V,list_output=False)"
   ]
  },
  {
   "cell_type": "code",
   "execution_count": 65,
   "metadata": {},
   "outputs": [
    {
     "data": {
      "text/plain": [
       "array([[[-0.038194  , -0.24487001,  0.72812003, ..., -0.1459    ,\n",
       "          0.82779998,  0.27061999],\n",
       "        [-0.32306999, -0.87616003,  0.21977   , ..., -0.52881002,\n",
       "          0.16483   , -0.98878002],\n",
       "        [-0.071953  ,  0.23127   ,  0.023731  , ..., -0.71894997,\n",
       "          0.86894   ,  0.19539   ],\n",
       "        ...,\n",
       "        [-0.54263997,  0.41475999,  1.03219998, ..., -1.29690003,\n",
       "          0.76217002,  0.46349001],\n",
       "        [-0.038194  , -0.24487001,  0.72812003, ..., -0.1459    ,\n",
       "          0.82779998,  0.27061999],\n",
       "        [-0.10462   , -0.44545999,  0.73246998, ..., -0.66948003,\n",
       "         -0.28375   , -1.29419994]],\n",
       "\n",
       "       [[-0.038194  , -0.24487001,  0.72812003, ..., -0.1459    ,\n",
       "          0.82779998,  0.27061999],\n",
       "        [-0.32306999, -0.87616003,  0.21977   , ..., -0.52881002,\n",
       "          0.16483   , -0.98878002],\n",
       "        [-0.1529    , -0.24279   ,  0.89837003, ..., -0.59100002,\n",
       "          1.00390005,  0.20664001],\n",
       "        ...,\n",
       "        [ 0.        ,  0.        ,  0.        , ...,  0.        ,\n",
       "          0.        ,  0.        ],\n",
       "        [ 0.        ,  0.        ,  0.        , ...,  0.        ,\n",
       "          0.        ,  0.        ],\n",
       "        [ 0.        ,  0.        ,  0.        , ...,  0.        ,\n",
       "          0.        ,  0.        ]]])"
      ]
     },
     "execution_count": 65,
     "metadata": {},
     "output_type": "execute_result"
    }
   ],
   "source": [
    "attention.combine_heads(attention.split_heads(V,list_output=False),list_output=False)"
   ]
  },
  {
   "cell_type": "code",
   "execution_count": 66,
   "metadata": {},
   "outputs": [
    {
     "data": {
      "text/plain": [
       "array([[[-0.04169134, -0.2327853 ,  0.7080632 , ..., -0.16198099,\n",
       "          0.8203707 ,  0.26874125],\n",
       "        [-0.3198783 , -0.8696115 ,  0.22613053, ..., -0.5297519 ,\n",
       "          0.15947372, -0.9885113 ],\n",
       "        [-0.04153148,  0.19671911,  0.07274187, ..., -0.66336256,\n",
       "          0.82956934,  0.18321793],\n",
       "        ...,\n",
       "        [-0.52202666,  0.39101028,  0.9926051 , ..., -1.2491548 ,\n",
       "          0.7591393 ,  0.4512606 ],\n",
       "        [-0.04169134, -0.2327853 ,  0.7080632 , ..., -0.16198099,\n",
       "          0.8203707 ,  0.26874125],\n",
       "        [-0.10619244, -0.4576801 ,  0.71165437, ..., -0.6663796 ,\n",
       "         -0.27050242, -1.2821829 ]],\n",
       "\n",
       "       [[-0.06321203, -0.23518014,  0.75859743, ..., -0.23100029,\n",
       "          0.85375684,  0.26278245],\n",
       "        [-0.32298926, -0.8756927 ,  0.21964346, ..., -0.5288897 ,\n",
       "          0.1647979 , -0.98836374],\n",
       "        [-0.15227912, -0.24188   ,  0.8967635 , ..., -0.5873809 ,\n",
       "          1.0016779 ,  0.20760266],\n",
       "        ...,\n",
       "        [-0.1131205 , -0.05298417,  0.24620919, ..., -0.2243825 ,\n",
       "          0.22033834, -0.09201917],\n",
       "        [-0.1131205 , -0.05298417,  0.24620919, ..., -0.2243825 ,\n",
       "          0.22033834, -0.09201917],\n",
       "        [-0.1131205 , -0.05298417,  0.24620919, ..., -0.2243825 ,\n",
       "          0.22033834, -0.09201917]]], dtype=float32)"
      ]
     },
     "execution_count": 66,
     "metadata": {},
     "output_type": "execute_result"
    }
   ],
   "source": [
    "attention.scaled_dot_product_attention(V,V,V,list_output=False)"
   ]
  },
  {
   "cell_type": "code",
   "execution_count": 67,
   "metadata": {},
   "outputs": [
    {
     "data": {
      "text/plain": [
       "tensor([[[-0.0963, -0.2358, -0.0071,  ..., -0.0491, -0.0180,  0.0432],\n",
       "         [-0.1049, -0.2334, -0.0056,  ..., -0.0517, -0.0205,  0.0384],\n",
       "         [-0.0961, -0.2358, -0.0078,  ..., -0.0489, -0.0169,  0.0416],\n",
       "         ...,\n",
       "         [-0.0998, -0.2343, -0.0020,  ..., -0.0500, -0.0193,  0.0408],\n",
       "         [-0.0963, -0.2358, -0.0071,  ..., -0.0491, -0.0180,  0.0432],\n",
       "         [-0.1115, -0.2294, -0.0007,  ..., -0.0513, -0.0236,  0.0367]],\n",
       "\n",
       "        [[-0.0746, -0.1346, -0.0167,  ..., -0.0221,  0.0105,  0.0167],\n",
       "         [-0.0753, -0.1315, -0.0190,  ..., -0.0295,  0.0095,  0.0142],\n",
       "         [-0.0755, -0.1341, -0.0169,  ..., -0.0190,  0.0107,  0.0174],\n",
       "         ...,\n",
       "         [-0.0818, -0.1338, -0.0133,  ..., -0.0231,  0.0074,  0.0193],\n",
       "         [-0.0818, -0.1338, -0.0133,  ..., -0.0231,  0.0074,  0.0193],\n",
       "         [-0.0818, -0.1338, -0.0133,  ..., -0.0231,  0.0074,  0.0193]]],\n",
       "       grad_fn=<ViewBackward0>)"
      ]
     },
     "execution_count": 67,
     "metadata": {},
     "output_type": "execute_result"
    }
   ],
   "source": [
    "attention.forward(V,V,V,list_output=False)"
   ]
  },
  {
   "cell_type": "code",
   "execution_count": null,
   "metadata": {},
   "outputs": [],
   "source": []
  }
 ],
 "metadata": {
  "celltoolbar": "Slideshow",
  "hide_code_all_hidden": false,
  "kernelspec": {
   "display_name": "Python 3 (ipykernel)",
   "language": "python",
   "name": "python3"
  },
  "language_info": {
   "codemirror_mode": {
    "name": "ipython",
    "version": 3
   },
   "file_extension": ".py",
   "mimetype": "text/x-python",
   "name": "python",
   "nbconvert_exporter": "python",
   "pygments_lexer": "ipython3",
   "version": "3.9.6"
  }
 },
 "nbformat": 4,
 "nbformat_minor": 4
}
