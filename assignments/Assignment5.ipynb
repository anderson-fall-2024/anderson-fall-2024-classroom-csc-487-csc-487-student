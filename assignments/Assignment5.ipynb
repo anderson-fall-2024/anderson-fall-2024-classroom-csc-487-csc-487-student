{
 "cells": [
  {
   "cell_type": "markdown",
   "metadata": {
    "id": "9LEgnz_jkhB5"
   },
   "source": [
    "# Colab Start Section"
   ]
  },
  {
   "cell_type": "markdown",
   "metadata": {
    "id": "0MAwGlg-khB6"
   },
   "source": [
    "Step 1 is to upload a copy of your private key. I am assuming your private key is named id_ed25519. If that isn't the case, you'll have to make manual changes."
   ]
  },
  {
   "cell_type": "code",
   "execution_count": 1,
   "metadata": {
    "id": "SVQ4mjKnkhB7"
   },
   "outputs": [],
   "source": [
    "# Change these of course to what is your email and your GitHub username\n",
    "EMAIL = \"pauleanderson@gmail.com\"\n",
    "USERNAME = \"pauleanderson\"\n",
    "ORG = \"anderson-fall-2024\""
   ]
  },
  {
   "cell_type": "code",
   "execution_count": 2,
   "metadata": {
    "colab": {
     "base_uri": "https://localhost:8080/",
     "height": 74
    },
    "id": "pOJnkrUCkhB7",
    "outputId": "6f373114-4044-41e5-c3ae-73eddaa53d3c"
   },
   "outputs": [
    {
     "data": {
      "text/html": [
       "\n",
       "     <input type=\"file\" id=\"files-b28a5013-808b-4fa8-815c-654508930750\" name=\"files[]\" multiple disabled\n",
       "        style=\"border:none\" />\n",
       "     <output id=\"result-b28a5013-808b-4fa8-815c-654508930750\">\n",
       "      Upload widget is only available when the cell has been executed in the\n",
       "      current browser session. Please rerun this cell to enable.\n",
       "      </output>\n",
       "      <script>// Copyright 2017 Google LLC\n",
       "//\n",
       "// Licensed under the Apache License, Version 2.0 (the \"License\");\n",
       "// you may not use this file except in compliance with the License.\n",
       "// You may obtain a copy of the License at\n",
       "//\n",
       "//      http://www.apache.org/licenses/LICENSE-2.0\n",
       "//\n",
       "// Unless required by applicable law or agreed to in writing, software\n",
       "// distributed under the License is distributed on an \"AS IS\" BASIS,\n",
       "// WITHOUT WARRANTIES OR CONDITIONS OF ANY KIND, either express or implied.\n",
       "// See the License for the specific language governing permissions and\n",
       "// limitations under the License.\n",
       "\n",
       "/**\n",
       " * @fileoverview Helpers for google.colab Python module.\n",
       " */\n",
       "(function(scope) {\n",
       "function span(text, styleAttributes = {}) {\n",
       "  const element = document.createElement('span');\n",
       "  element.textContent = text;\n",
       "  for (const key of Object.keys(styleAttributes)) {\n",
       "    element.style[key] = styleAttributes[key];\n",
       "  }\n",
       "  return element;\n",
       "}\n",
       "\n",
       "// Max number of bytes which will be uploaded at a time.\n",
       "const MAX_PAYLOAD_SIZE = 100 * 1024;\n",
       "\n",
       "function _uploadFiles(inputId, outputId) {\n",
       "  const steps = uploadFilesStep(inputId, outputId);\n",
       "  const outputElement = document.getElementById(outputId);\n",
       "  // Cache steps on the outputElement to make it available for the next call\n",
       "  // to uploadFilesContinue from Python.\n",
       "  outputElement.steps = steps;\n",
       "\n",
       "  return _uploadFilesContinue(outputId);\n",
       "}\n",
       "\n",
       "// This is roughly an async generator (not supported in the browser yet),\n",
       "// where there are multiple asynchronous steps and the Python side is going\n",
       "// to poll for completion of each step.\n",
       "// This uses a Promise to block the python side on completion of each step,\n",
       "// then passes the result of the previous step as the input to the next step.\n",
       "function _uploadFilesContinue(outputId) {\n",
       "  const outputElement = document.getElementById(outputId);\n",
       "  const steps = outputElement.steps;\n",
       "\n",
       "  const next = steps.next(outputElement.lastPromiseValue);\n",
       "  return Promise.resolve(next.value.promise).then((value) => {\n",
       "    // Cache the last promise value to make it available to the next\n",
       "    // step of the generator.\n",
       "    outputElement.lastPromiseValue = value;\n",
       "    return next.value.response;\n",
       "  });\n",
       "}\n",
       "\n",
       "/**\n",
       " * Generator function which is called between each async step of the upload\n",
       " * process.\n",
       " * @param {string} inputId Element ID of the input file picker element.\n",
       " * @param {string} outputId Element ID of the output display.\n",
       " * @return {!Iterable<!Object>} Iterable of next steps.\n",
       " */\n",
       "function* uploadFilesStep(inputId, outputId) {\n",
       "  const inputElement = document.getElementById(inputId);\n",
       "  inputElement.disabled = false;\n",
       "\n",
       "  const outputElement = document.getElementById(outputId);\n",
       "  outputElement.innerHTML = '';\n",
       "\n",
       "  const pickedPromise = new Promise((resolve) => {\n",
       "    inputElement.addEventListener('change', (e) => {\n",
       "      resolve(e.target.files);\n",
       "    });\n",
       "  });\n",
       "\n",
       "  const cancel = document.createElement('button');\n",
       "  inputElement.parentElement.appendChild(cancel);\n",
       "  cancel.textContent = 'Cancel upload';\n",
       "  const cancelPromise = new Promise((resolve) => {\n",
       "    cancel.onclick = () => {\n",
       "      resolve(null);\n",
       "    };\n",
       "  });\n",
       "\n",
       "  // Wait for the user to pick the files.\n",
       "  const files = yield {\n",
       "    promise: Promise.race([pickedPromise, cancelPromise]),\n",
       "    response: {\n",
       "      action: 'starting',\n",
       "    }\n",
       "  };\n",
       "\n",
       "  cancel.remove();\n",
       "\n",
       "  // Disable the input element since further picks are not allowed.\n",
       "  inputElement.disabled = true;\n",
       "\n",
       "  if (!files) {\n",
       "    return {\n",
       "      response: {\n",
       "        action: 'complete',\n",
       "      }\n",
       "    };\n",
       "  }\n",
       "\n",
       "  for (const file of files) {\n",
       "    const li = document.createElement('li');\n",
       "    li.append(span(file.name, {fontWeight: 'bold'}));\n",
       "    li.append(span(\n",
       "        `(${file.type || 'n/a'}) - ${file.size} bytes, ` +\n",
       "        `last modified: ${\n",
       "            file.lastModifiedDate ? file.lastModifiedDate.toLocaleDateString() :\n",
       "                                    'n/a'} - `));\n",
       "    const percent = span('0% done');\n",
       "    li.appendChild(percent);\n",
       "\n",
       "    outputElement.appendChild(li);\n",
       "\n",
       "    const fileDataPromise = new Promise((resolve) => {\n",
       "      const reader = new FileReader();\n",
       "      reader.onload = (e) => {\n",
       "        resolve(e.target.result);\n",
       "      };\n",
       "      reader.readAsArrayBuffer(file);\n",
       "    });\n",
       "    // Wait for the data to be ready.\n",
       "    let fileData = yield {\n",
       "      promise: fileDataPromise,\n",
       "      response: {\n",
       "        action: 'continue',\n",
       "      }\n",
       "    };\n",
       "\n",
       "    // Use a chunked sending to avoid message size limits. See b/62115660.\n",
       "    let position = 0;\n",
       "    do {\n",
       "      const length = Math.min(fileData.byteLength - position, MAX_PAYLOAD_SIZE);\n",
       "      const chunk = new Uint8Array(fileData, position, length);\n",
       "      position += length;\n",
       "\n",
       "      const base64 = btoa(String.fromCharCode.apply(null, chunk));\n",
       "      yield {\n",
       "        response: {\n",
       "          action: 'append',\n",
       "          file: file.name,\n",
       "          data: base64,\n",
       "        },\n",
       "      };\n",
       "\n",
       "      let percentDone = fileData.byteLength === 0 ?\n",
       "          100 :\n",
       "          Math.round((position / fileData.byteLength) * 100);\n",
       "      percent.textContent = `${percentDone}% done`;\n",
       "\n",
       "    } while (position < fileData.byteLength);\n",
       "  }\n",
       "\n",
       "  // All done.\n",
       "  yield {\n",
       "    response: {\n",
       "      action: 'complete',\n",
       "    }\n",
       "  };\n",
       "}\n",
       "\n",
       "scope.google = scope.google || {};\n",
       "scope.google.colab = scope.google.colab || {};\n",
       "scope.google.colab._files = {\n",
       "  _uploadFiles,\n",
       "  _uploadFilesContinue,\n",
       "};\n",
       "})(self);\n",
       "</script> "
      ],
      "text/plain": [
       "<IPython.core.display.HTML object>"
      ]
     },
     "metadata": {},
     "output_type": "display_data"
    },
    {
     "name": "stdout",
     "output_type": "stream",
     "text": [
      "Saving id_ed25519 to id_ed25519\n"
     ]
    }
   ],
   "source": [
    "from google.colab import files\n",
    "uploaded = files.upload()"
   ]
  },
  {
   "cell_type": "code",
   "execution_count": 3,
   "metadata": {
    "id": "A7MwtCjjkhB8"
   },
   "outputs": [],
   "source": [
    "%%bash -s \"$EMAIL\" \"$USERNAME\"\n",
    "\n",
    "rm -rf /root/.ssh/*\n",
    "mkdir /root/.ssh\n",
    "\n",
    "mv id_ed25519 /root/.ssh/\n",
    "\n",
    "chmod 600 /root/.ssh/id_ed25519\n",
    "\n",
    "git config --global user.email \"$1\"\n",
    "git config --global user.name \"$2\""
   ]
  },
  {
   "cell_type": "code",
   "execution_count": 8,
   "metadata": {
    "colab": {
     "base_uri": "https://localhost:8080/"
    },
    "id": "-aJZXbdlkhB9",
    "outputId": "18bf0c90-2f5a-4b65-d63b-a79d55db3f84"
   },
   "outputs": [
    {
     "name": "stdout",
     "output_type": "stream",
     "text": [
      "Agent pid 726\n"
     ]
    },
    {
     "name": "stderr",
     "output_type": "stream",
     "text": [
      "Identity added: /root/.ssh/id_ed25519 (pauleanderson@gmail.com)\n",
      "# github.com:22 SSH-2.0-babeld-cd94d92b7\n",
      "Cloning into 'csc-487-instructor'...\n"
     ]
    }
   ],
   "source": [
    "%%bash -s \"$USERNAME\" \"$ORG\"\n",
    "\n",
    "eval \"$(ssh-agent -s)\"\n",
    "\n",
    "ssh-add ~/.ssh/id_ed25519\n",
    "\n",
    "ssh-keyscan -t rsa github.com >> ~/.ssh/known_hosts\n",
    "\n",
    "git clone git@github.com:$2/csc-487-$1.git"
   ]
  },
  {
   "cell_type": "code",
   "execution_count": 2,
   "metadata": {
    "id": "2Wc0Nqr5khB9"
   },
   "outputs": [],
   "source": [
    "%load_ext autoreload\n",
    "%autoreload 2\n",
    "\n",
    "\n",
    "from pathlib import Path\n",
    "home = str(Path.home()) # all other paths are relative to this path. change to something else if this is not the case on your system\n",
    "\n",
    "import sys\n",
    "sys.path.insert(0,f\"csc-487-{USERNAME}\")\n",
    "sys.path.insert(0,\"..\")\n",
    "\n",
    "import py487"
   ]
  },
  {
   "cell_type": "code",
   "execution_count": 3,
   "metadata": {
    "id": "MKLZUvRxZunS"
   },
   "outputs": [],
   "source": [
    "# For tips on running notebooks in Google Colab, see\n",
    "# https://pytorch.org/tutorials/beginner/colab\n",
    "%matplotlib inline"
   ]
  },
  {
   "cell_type": "markdown",
   "metadata": {
    "hideCode": false,
    "hidePrompt": false,
    "slideshow": {
     "slide_type": "slide"
    },
    "tags": []
   },
   "source": [
    "# Assignment 5 - Implementing your own layers\n",
    "\n",
    "Paul E. Anderson"
   ]
  },
  {
   "cell_type": "markdown",
   "metadata": {},
   "source": [
    "## Motivation\n",
    "We are building our understanding of the different types of layers for a neural network by implementing them from scratch (i.e., pure Python).\n",
    "\n",
    "## Instructions:\n",
    "In this assignment you will be coding classes that replicate some of the functionality from:\n",
    "* https://pytorch.org/docs/stable/_modules/torch/nn/modules/linear.html\n",
    "* https://pytorch.org/docs/stable/generated/torch.nn.Conv2d.html\n",
    "\n",
    "Your code should stick to 100% pure Python. i.e., no numpy, pandas, and PyTorch. The only exception is these libraries are used to generate input. Your output and code should not use them as anything more than input.\n",
    "\n",
    "You are free to look at PyTorch source code for inspiration, but I wouldn't chase an exact one-to-one coding port.\n",
    "\n",
    "## Important implementation notes\n",
    "Since weights are initialized at random, please use the function I provide in ``py487.nn.get_new_random_weight``. When implementing linear, the outermost loop should be over the nodes. You should also generate the biases after you have generated all other weights."
   ]
  },
  {
   "cell_type": "markdown",
   "metadata": {
    "tags": []
   },
   "source": [
    "## Linear\n",
    "\n",
    "### We need some data for testing purposes"
   ]
  },
  {
   "cell_type": "code",
   "execution_count": 2,
   "metadata": {},
   "outputs": [],
   "source": [
    "import matplotlib.pyplot as plt\n",
    "from sklearn import datasets\n",
    "import numpy as np\n",
    "np.random.seed(4)\n",
    "X, t = datasets.make_blobs(n_samples=100, centers=3, n_features=4, center_box=(0, 10))"
   ]
  },
  {
   "cell_type": "code",
   "execution_count": 3,
   "metadata": {},
   "outputs": [
    {
     "data": {
      "text/plain": [
       "tensor([[-3.0514,  1.9010,  0.7878, -5.5364, -2.1675, -5.3132,  2.0600, -0.0570,\n",
       "          2.0788,  1.1156],\n",
       "        [-5.5435,  0.7840, -2.5190, -6.6141, -5.2038, -7.0382,  3.7707, -0.7688,\n",
       "          1.6381,  4.0393],\n",
       "        [-2.3709,  2.7171,  0.2324, -2.8502, -0.8866, -5.0129,  3.9327, -2.5185,\n",
       "          1.1416,  0.2376],\n",
       "        [-2.9382,  1.9173,  1.7087, -6.3171, -2.0009, -5.5399,  2.0373,  0.0447,\n",
       "          2.0261,  0.9221]], grad_fn=<AddmmBackward0>)"
      ]
     },
     "execution_count": 3,
     "metadata": {},
     "output_type": "execute_result"
    }
   ],
   "source": [
    "import torch\n",
    "torch_layer = torch.nn.Linear(4,10)\n",
    "W,b = list(torch_layer.parameters())\n",
    "W = W.detach().numpy().tolist()\n",
    "b = b.detach().numpy().tolist()\n",
    "torch_layer(torch.Tensor(X[:4]))"
   ]
  },
  {
   "cell_type": "code",
   "execution_count": 4,
   "metadata": {},
   "outputs": [
    {
     "data": {
      "text/plain": [
       "array([[-3.05135991,  1.90104992,  0.78777163, -5.5364001 , -2.16748847,\n",
       "        -5.31318821,  2.0599534 , -0.05696987,  2.07877585,  1.11564758],\n",
       "       [-5.54351069,  0.78399725, -2.51901847, -6.61408735, -5.20377116,\n",
       "        -7.03817177,  3.77068254, -0.76881425,  1.63809678,  4.03926829],\n",
       "       [-2.3708948 ,  2.71705549,  0.23241454, -2.85017997, -0.88664849,\n",
       "        -5.01288253,  3.93266275, -2.51851691,  1.14156147,  0.23763347],\n",
       "       [-2.93817657,  1.91729047,  1.70868121, -6.31710108, -2.00086755,\n",
       "        -5.53994463,  2.03732604,  0.04469909,  2.02605155,  0.92206351]])"
      ]
     },
     "execution_count": 4,
     "metadata": {},
     "output_type": "execute_result"
    }
   ],
   "source": [
    "layer = py487.nn.Linear(4,10)\n",
    "layer.W = W\n",
    "layer.b = b\n",
    "np.array(layer.transform(X[:4]))"
   ]
  },
  {
   "cell_type": "code",
   "execution_count": 5,
   "metadata": {},
   "outputs": [
    {
     "data": {
      "text/plain": [
       "array([[ 7.78001688, 14.08582519,  5.53625077,  6.82312412,  9.56491452,\n",
       "        10.14402522,  8.28957839, 14.78423217,  9.78495955, 15.10787483],\n",
       "       [11.92475096, 21.69189983, 10.61140271, 12.33027784, 14.39880151,\n",
       "        17.5054005 , 13.76343296, 26.2666809 , 19.96634931, 25.75031696],\n",
       "       [ 5.41777825, 13.35565848,  4.72635997,  8.73640488, 10.81105103,\n",
       "         8.95051464,  5.01725939, 14.4863225 , 11.48882949, 14.68151436],\n",
       "       [ 7.99175032, 14.34280588,  5.60751452,  7.18037327,  9.84307807,\n",
       "         9.76382783,  8.02227742, 14.85178769,  9.06337085, 15.26008802]])"
      ]
     },
     "execution_count": 5,
     "metadata": {},
     "output_type": "execute_result"
    }
   ],
   "source": [
    "layer = py487.nn.Linear(4,10)\n",
    "np.array(layer.transform(X[:4]))"
   ]
  },
  {
   "cell_type": "markdown",
   "metadata": {},
   "source": [
    "## Conv2d\n",
    "\n",
    "For this standardized assignment, you will implement a limited version of PyTorch's Conv2d. Your implementation\n",
    "should support any number of inputs, any number of input channels, and any size image. Your implementation can be limited in the following sense:\n",
    "* You can assume a kernel size of 3.\n",
    "* You can assume there will be no bias.\n",
    "* You can assume that padding will always equal 1.\n",
    "\n",
    "Below you can find an example execution of my solution to this problem. Please see the test cases and use those to guide you to make incremental progress on this one. \n",
    "\n",
    "We first need a dataset of course. We will create one that has 20 images with 16 channels that are sized 32 x 32."
   ]
  },
  {
   "cell_type": "code",
   "execution_count": 19,
   "metadata": {},
   "outputs": [],
   "source": [
    "input = torch.randn(20, 16, 32, 32)"
   ]
  },
  {
   "cell_type": "code",
   "execution_count": 21,
   "metadata": {},
   "outputs": [
    {
     "data": {
      "text/plain": [
       "array([ 0.00247935,  0.00623732,  0.00315957, -0.00350458, -0.00423463,\n",
       "       -0.00123584,  0.00467167, -0.01315151, -0.00987491,  0.00572499,\n",
       "       -0.00198541,  0.00123873, -0.00317038, -0.00281763,  0.00249892,\n",
       "       -0.01791426], dtype=float32)"
      ]
     },
     "execution_count": 21,
     "metadata": {},
     "output_type": "execute_result"
    }
   ],
   "source": [
    "channel_avg = np.mean(input.detach().numpy(), (0, 2, 3))\n",
    "channel_avg"
   ]
  },
  {
   "cell_type": "code",
   "execution_count": 22,
   "metadata": {},
   "outputs": [
    {
     "name": "stdout",
     "output_type": "stream",
     "text": [
      "The output shape is torch.Size([20, 2, 32, 32])\n"
     ]
    }
   ],
   "source": [
    "import torch.nn as nn\n",
    "# With square kernels and equal stride\n",
    "m = nn.Conv2d(16, 2, 3, padding=1,bias=False)\n",
    "output = m(input)\n",
    "print(\"The output shape is\",output.shape)"
   ]
  },
  {
   "cell_type": "code",
   "execution_count": 23,
   "metadata": {},
   "outputs": [
    {
     "name": "stdout",
     "output_type": "stream",
     "text": [
      "An example output for one image is:\n",
      " tensor([[[[ 0.3559, -0.4042,  0.0676,  ..., -0.5221,  0.0112, -0.3082],\n",
      "          [ 0.0387, -0.0678, -0.5145,  ...,  0.1490, -0.1955, -0.2780],\n",
      "          [ 0.6575,  0.1259, -0.3579,  ..., -1.0116,  0.2763,  1.1288],\n",
      "          ...,\n",
      "          [-1.0054,  0.5265, -0.3163,  ...,  0.5941, -0.5093,  0.1143],\n",
      "          [ 0.2613,  0.0561,  1.3304,  ...,  0.0557, -0.8539, -0.6020],\n",
      "          [ 0.3314,  1.0446,  0.4888,  ...,  0.3743,  0.1206,  0.6735]],\n",
      "\n",
      "         [[-0.2228, -0.2913,  0.1243,  ..., -0.1958,  0.9448,  0.2423],\n",
      "          [ 0.4050, -0.8187,  0.5489,  ...,  0.6726, -0.1190, -0.1260],\n",
      "          [-0.4432,  0.0939,  0.4535,  ..., -0.1388,  0.1142, -0.7076],\n",
      "          ...,\n",
      "          [ 0.1688, -0.8324,  1.0597,  ..., -0.3439,  0.0186,  0.9987],\n",
      "          [ 0.5498, -0.0174, -0.3927,  ..., -0.5744,  0.1671, -0.1172],\n",
      "          [ 0.4285, -0.3679, -0.2670,  ..., -1.5167, -0.5148, -0.5526]]]],\n",
      "       grad_fn=<SliceBackward0>)\n"
     ]
    }
   ],
   "source": [
    "output = m(input) \n",
    "print(\"An example output for one image is:\\n\",output[:1])"
   ]
  },
  {
   "cell_type": "code",
   "execution_count": 24,
   "metadata": {},
   "outputs": [
    {
     "name": "stdout",
     "output_type": "stream",
     "text": [
      "Our weight matrix that contains our kernels has the following shape:\n",
      " torch.Size([2, 16, 3, 3])\n"
     ]
    }
   ],
   "source": [
    "print(\"Our weight matrix that contains our kernels has the following shape:\\n\",m.weight.shape)"
   ]
  },
  {
   "cell_type": "markdown",
   "metadata": {},
   "source": [
    "**Our implementation now:**"
   ]
  },
  {
   "cell_type": "code",
   "execution_count": 25,
   "metadata": {},
   "outputs": [
    {
     "name": "stdout",
     "output_type": "stream",
     "text": [
      "First, your shape should match PyTorch:\n",
      " (2, 16, 3, 3)\n"
     ]
    }
   ],
   "source": [
    "layer = py487.nn.Conv2d(16, 2, 3)\n",
    "print(\"First, your shape should match PyTorch:\\n\",np.array(layer.W).shape)"
   ]
  },
  {
   "cell_type": "markdown",
   "metadata": {},
   "source": [
    "If that is true, you can use PyTorch's weight matrix"
   ]
  },
  {
   "cell_type": "code",
   "execution_count": 26,
   "metadata": {},
   "outputs": [],
   "source": [
    "W = m.weight.detach().numpy().tolist()\n",
    "layer.W = W"
   ]
  },
  {
   "cell_type": "code",
   "execution_count": 27,
   "metadata": {},
   "outputs": [
    {
     "name": "stdout",
     "output_type": "stream",
     "text": [
      "Second, we can check whether our output is the correct shape:\n",
      " (20, 2, 32, 32)\n"
     ]
    }
   ],
   "source": [
    "print(\"Second, we can check whether our output is the correct shape:\\n\",np.array(layer.transform_dryrun(input)).shape)"
   ]
  },
  {
   "cell_type": "code",
   "execution_count": 28,
   "metadata": {},
   "outputs": [
    {
     "name": "stdout",
     "output_type": "stream",
     "text": [
      "Here is an example dryrun output (zeros are what you should see):\n",
      " [[[0 0 0 ... 0 0 0]\n",
      "  [0 0 0 ... 0 0 0]\n",
      "  [0 0 0 ... 0 0 0]\n",
      "  ...\n",
      "  [0 0 0 ... 0 0 0]\n",
      "  [0 0 0 ... 0 0 0]\n",
      "  [0 0 0 ... 0 0 0]]\n",
      "\n",
      " [[0 0 0 ... 0 0 0]\n",
      "  [0 0 0 ... 0 0 0]\n",
      "  [0 0 0 ... 0 0 0]\n",
      "  ...\n",
      "  [0 0 0 ... 0 0 0]\n",
      "  [0 0 0 ... 0 0 0]\n",
      "  [0 0 0 ... 0 0 0]]]\n"
     ]
    }
   ],
   "source": [
    "print(\"Here is an example dryrun output (zeros are what you should see):\\n\",np.array(layer.transform_dryrun(input))[0])"
   ]
  },
  {
   "cell_type": "code",
   "execution_count": 29,
   "metadata": {},
   "outputs": [
    {
     "name": "stdout",
     "output_type": "stream",
     "text": [
      "Now we can test our convolution:\n",
      " [[[ 0.35593852 -0.40422426  0.06760901 ... -0.52211441  0.01118538\n",
      "   -0.30821643]\n",
      "  [ 0.03867475 -0.06777543 -0.51450794 ...  0.14903607 -0.19553183\n",
      "   -0.27804863]\n",
      "  [ 0.65753443  0.12586502 -0.35789976 ... -1.01161504  0.27625826\n",
      "    1.12881637]\n",
      "  ...\n",
      "  [-1.00535865  0.52653284 -0.31631291 ...  0.59405306 -0.50928068\n",
      "    0.11427801]\n",
      "  [ 0.26130189  0.056141    1.33041357 ...  0.05569568 -0.8539353\n",
      "   -0.60195998]\n",
      "  [ 0.33139465  1.04463859  0.48882595 ...  0.37427971  0.12061934\n",
      "    0.67353672]]\n",
      "\n",
      " [[-0.22280776 -0.29134453  0.12429806 ... -0.19581417  0.9448387\n",
      "    0.24225088]\n",
      "  [ 0.40500557 -0.8186519   0.54891695 ...  0.67256474 -0.11899789\n",
      "   -0.12602717]\n",
      "  [-0.44321089  0.09394567  0.453458   ... -0.13879769  0.11422061\n",
      "   -0.70762143]\n",
      "  ...\n",
      "  [ 0.16876471 -0.83235505  1.05969282 ... -0.34392846  0.01857664\n",
      "    0.99870993]\n",
      "  [ 0.54983704 -0.01737289 -0.39265563 ... -0.57444189  0.16713793\n",
      "   -0.11715195]\n",
      "  [ 0.42845175 -0.36791493 -0.26703198 ... -1.51665758 -0.51479836\n",
      "   -0.55262184]]]\n"
     ]
    }
   ],
   "source": [
    "print(\"Now we can test our convolution:\\n\",np.array(layer.transform(input))[0])"
   ]
  },
  {
   "cell_type": "code",
   "execution_count": 28,
   "metadata": {},
   "outputs": [],
   "source": [
    "# End of notebook"
   ]
  }
 ],
 "metadata": {
  "celltoolbar": "Slideshow",
  "hide_code_all_hidden": false,
  "kernelspec": {
   "display_name": "Python 3 (ipykernel)",
   "language": "python",
   "name": "python3"
  },
  "language_info": {
   "codemirror_mode": {
    "name": "ipython",
    "version": 3
   },
   "file_extension": ".py",
   "mimetype": "text/x-python",
   "name": "python",
   "nbconvert_exporter": "python",
   "pygments_lexer": "ipython3",
   "version": "3.9.6"
  }
 },
 "nbformat": 4,
 "nbformat_minor": 4
}
